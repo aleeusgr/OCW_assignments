{
 "cells": [
  {
   "cell_type": "markdown",
   "metadata": {},
   "source": [
    "### 18.06SC Homework assignment and recitation problems using python\n",
    "###### Created by:\n",
    "\n",
    "###### Name          : <your name>\n",
    "Time spent    : timestart: 08. May 7 2020,14:15 MOW"
   ]
  },
  {
   "cell_type": "markdown",
   "metadata": {},
   "source": [
    "### /18.06SC/18-06sc-fall-2011/contents/ax-b-and-the-four-subspaces/"
   ]
  },
  {
   "cell_type": "markdown",
   "metadata": {},
   "source": [
    "#### 1. The geometry of linear equations"
   ]
  },
  {
   "cell_type": "markdown",
   "metadata": {
    "jupyter": {
     "source_hidden": true
    }
   },
   "source": [
    "/18.06SC/18-06sc-fall-2011/contents/ax-b-and-the-four-subspaces/the-geometry-of-linear-equations/MIT18_06SCF11_Ses1.1prob.pdf\n",
    "\n",
    "Problem 1.1\n",
    "Find combination of $ x_{1}w_{1} + x_{2}w_{2} + x_{3}w_{3} $ that gives zero vector:"
   ]
  },
  {
   "cell_type": "code",
   "execution_count": 1,
   "metadata": {
    "collapsed": true,
    "jupyter": {
     "outputs_hidden": true,
     "source_hidden": true
    }
   },
   "outputs": [
    {
     "data": {
      "text/latex": [
       "$\\displaystyle \\left[\\begin{matrix}1 & 4 & 7\\\\2 & 5 & 8\\\\3 & 6 & 9\\end{matrix}\\right]$"
      ],
      "text/plain": [
       "Matrix([\n",
       "[1, 4, 7],\n",
       "[2, 5, 8],\n",
       "[3, 6, 9]])"
      ]
     },
     "execution_count": 1,
     "metadata": {},
     "output_type": "execute_result"
    }
   ],
   "source": [
    "import sympy as sym\n",
    "from sympy import Matrix\n",
    "\n",
    "W = Matrix()\n",
    "w1 = Matrix([1,2,3])\n",
    "w2 = Matrix([4,5,6])\n",
    "w3 = Matrix([7,8,9])\n",
    "W = W.row_join(w1)\n",
    "W = W.row_join(w2)\n",
    "W = W.row_join(w3)\n",
    "W"
   ]
  },
  {
   "cell_type": "markdown",
   "metadata": {
    "jupyter": {
     "source_hidden": true
    }
   },
   "source": [
    "Elimination:"
   ]
  },
  {
   "cell_type": "code",
   "execution_count": 2,
   "metadata": {
    "collapsed": true,
    "jupyter": {
     "outputs_hidden": true,
     "source_hidden": true
    }
   },
   "outputs": [
    {
     "data": {
      "text/latex": [
       "$\\displaystyle \\left[\\begin{matrix}1 & 4 & 7\\\\0 & -3 & -6\\\\0 & 0 & 0\\end{matrix}\\right]$"
      ],
      "text/plain": [
       "Matrix([\n",
       "[1,  4,  7],\n",
       "[0, -3, -6],\n",
       "[0,  0,  0]])"
      ]
     },
     "execution_count": 2,
     "metadata": {},
     "output_type": "execute_result"
    }
   ],
   "source": [
    "W.row_op(1,lambda M,j:W[1,j]-2*W[0,j])\n",
    "W.row_op(2,lambda M,j:W[2,j]-3*W[0,j]-2*W[1,j])\n",
    "W"
   ]
  },
  {
   "cell_type": "code",
   "execution_count": 3,
   "metadata": {
    "collapsed": true,
    "jupyter": {
     "outputs_hidden": true,
     "source_hidden": true
    }
   },
   "outputs": [
    {
     "data": {
      "text/plain": [
       "True"
      ]
     },
     "execution_count": 3,
     "metadata": {},
     "output_type": "execute_result"
    }
   ],
   "source": [
    "# try: \n",
    "xp = Matrix([1,-2,1])\n",
    "# check:\n",
    "# solution is [1,-2,1]\n",
    "# Three vectors lie in a plane; The matrix is not invertible. \n",
    "W * xp == sym.zeros(3,1)"
   ]
  },
  {
   "cell_type": "markdown",
   "metadata": {
    "jupyter": {
     "source_hidden": true
    }
   },
   "source": [
    "1.2 Multiply matrix and vector"
   ]
  },
  {
   "cell_type": "code",
   "execution_count": 21,
   "metadata": {
    "collapsed": true,
    "jupyter": {
     "outputs_hidden": true,
     "source_hidden": true
    }
   },
   "outputs": [
    {
     "data": {
      "text/latex": [
       "$\\displaystyle \\left[\\begin{matrix}-1\\\\9\\\\11\\end{matrix}\\right]$"
      ],
      "text/plain": [
       "Matrix([\n",
       "[-1],\n",
       "[ 9],\n",
       "[11]])"
      ]
     },
     "execution_count": 21,
     "metadata": {},
     "output_type": "execute_result"
    }
   ],
   "source": [
    "M = Matrix([[1,2,0],\n",
    "            [2,0,3],\n",
    "            [4,1,1]])\n",
    "v = Matrix([3,-2,1])\n",
    "\n",
    "# computation:\n",
    "M.col(0)*v[0] + M.col(1)*v[1] + M.col(2)*v[2]"
   ]
  },
  {
   "cell_type": "markdown",
   "metadata": {
    "jupyter": {
     "source_hidden": true
    }
   },
   "source": [
    "1.3 \n",
    "\n",
    "`True` or `False` : Matrix A size 3 by 2 times matrix B size 2 by 3 is equal AB size 3 by 3: `True`"
   ]
  },
  {
   "cell_type": "code",
   "execution_count": 30,
   "metadata": {
    "collapsed": true,
    "jupyter": {
     "outputs_hidden": true,
     "source_hidden": true
    }
   },
   "outputs": [
    {
     "data": {
      "text/latex": [
       "$\\displaystyle \\left[\\begin{matrix}0 & 0 & 0\\\\0 & 0 & 0\\\\0 & 0 & 0\\end{matrix}\\right]$"
      ],
      "text/plain": [
       "Matrix([\n",
       "[0, 0, 0],\n",
       "[0, 0, 0],\n",
       "[0, 0, 0]])"
      ]
     },
     "execution_count": 30,
     "metadata": {},
     "output_type": "execute_result"
    }
   ],
   "source": [
    "A = Matrix.zeros(3,2)\n",
    "B = Matrix.zeros(2,3)\n",
    "A*B"
   ]
  },
  {
   "cell_type": "markdown",
   "metadata": {},
   "source": [
    "#### Recitation 1"
   ]
  },
  {
   "cell_type": "markdown",
   "metadata": {
    "jupyter": {
     "source_hidden": true
    }
   },
   "source": [
    "Solve system:\n",
    "\n",
    "$ 2x + y = 3 $ \\n\n",
    "\n",
    "$ x - 2y =-1 $"
   ]
  },
  {
   "cell_type": "code",
   "execution_count": 15,
   "metadata": {
    "collapsed": true,
    "jupyter": {
     "outputs_hidden": true,
     "source_hidden": true
    }
   },
   "outputs": [
    {
     "data": {
      "image/png": "[encoded data removed]",
      "text/plain": [
       "<Figure size 1440x1440 with 2 Axes>"
      ]
     },
     "metadata": {
      "needs_background": "light"
     },
     "output_type": "display_data"
    }
   ],
   "source": [
    "import numpy as np\n",
    "import matplotlib.pyplot as plt\n",
    "sz=20\n",
    "fig = plt.figure(figsize=(sz,sz))\n",
    "\n",
    "ax1 = fig.add_subplot(221)\n",
    "ax1.grid()\n",
    "\n",
    "x = np.linspace(-5,5,10)\n",
    "y1 = -2*x+3\n",
    "y2 = (x + 1)/2\n",
    "\n",
    "ax1.title.set_text(\"row picture\")\n",
    "ax1.plot(x,y1)\n",
    "ax1.plot(x,y2)\n",
    "ax1.plot(1,1,'o')\n",
    "\n",
    "ax2 = fig.add_subplot(222)\n",
    "x=1\n",
    "y=1\n",
    "vectors = np.array([[0, 0, 2, 1], \n",
    "                    [0, 0, 1, -2], \n",
    "                    [0, 0, 3, -1]])\n",
    "vec_plt = np.array([x*vectors[0], \n",
    "                   [x*vectors[0,2], x*vectors[0,3], y*vectors[1,2] ,y*vectors[1,3]], \n",
    "                   [0, 0, 3, -1]])\n",
    "\n",
    "X, Y, U, V = zip(*vec_plt)\n",
    "\n",
    "ax2.title.set_text(\"column picture\")\n",
    "ax2.grid()\n",
    "ax2 = plt.gca()\n",
    "ax2.quiver(X, Y, U, V, angles='xy', scale_units='xy', scale=1)\n",
    "ax2.set_xlim([0, 3])\n",
    "ax2.set_ylim([-2, 2])\n",
    "plt.draw()\n",
    "plt.show()"
   ]
  },
  {
   "cell_type": "markdown",
   "metadata": {},
   "source": [
    "##### Overview of key Ideas"
   ]
  },
  {
   "cell_type": "markdown",
   "metadata": {
    "jupyter": {
     "source_hidden": true
    }
   },
   "source": [
    "System Ax+b\n",
    "\n",
    "b = $[1,4,1,1]^T$ <br>\n",
    "x = $[0,1,1]^T + c[0,2,1]^T$ <br>\n",
    "What can be found about the colums of A? <br>\n",
    "1. $A*xs = 0$ therefore: <br>\n",
    "$2a_2 + a_3 = 0$ <br>\n",
    "$a_3 =-2a_2$ <br> \n",
    "2. $A*xp = b$ <br>\n",
    "$a_2+a_3 = b$ substitute  $a_3=-2a_2$ <br>\n",
    "$-a_2 = b$ <br>\n",
    "$a_3 = 2b$"
   ]
  },
  {
   "cell_type": "code",
   "execution_count": 39,
   "metadata": {
    "collapsed": true,
    "jupyter": {
     "outputs_hidden": true,
     "source_hidden": true
    }
   },
   "outputs": [
    {
     "name": "stdout",
     "output_type": "stream",
     "text": [
      "Check Axp=b: True\n",
      "Check Axs=0: True\n"
     ]
    }
   ],
   "source": [
    "from sympy import Matrix\n",
    "from sympy.abc import c\n",
    "b = Matrix([1,4,1,1])\n",
    "xp = Matrix([0,1,1])\n",
    "xs = Matrix([0,2,1])\n",
    "A = Matrix.zeros(4,3)\n",
    "A.col_op(1, lambda M,i: -1*b[i])\n",
    "A.col_op(2, lambda M,i: 2*b[i])\n",
    "print(\"Check Axp=b:\", A*xp==b)\n",
    "print(\"Check Axs=0:\", A*xs==Matrix.zeros(4,1))"
   ]
  },
  {
   "cell_type": "markdown",
   "metadata": {},
   "source": [
    "#### 2. Elimination with matrices"
   ]
  },
  {
   "cell_type": "markdown",
   "metadata": {
    "jupyter": {
     "source_hidden": true
    }
   },
   "source": [
    "/18.06SC/18-06sc-fall-2011/contents/ax-b-and-the-four-subspaces/elimination-with-matrices/MIT18_06SCF11_Ses1.2prob.pdf\n",
    "\n",
    "Problem 1.1 \n",
    "\n",
    "In the following system find multiple of the first equation to be substracted from second equation.  <br>\n",
    "Solve the system using elimination. <br>\n",
    "System: <br>\n",
    "$2x + 3y = 5$ <br>\n",
    "$6x + 15y = 12 $ <br>"
   ]
  },
  {
   "cell_type": "markdown",
   "metadata": {
    "jupyter": {
     "source_hidden": true
    }
   },
   "source": [
    "2.2 \n",
    "\n",
    "Find triangular matrix E that reduces \"Pascal's matrix\" to a smaller Pascal.\n",
    "Find matrix E, that reduces it all the way to I"
   ]
  },
  {
   "cell_type": "code",
   "execution_count": 19,
   "metadata": {
    "collapsed": true,
    "jupyter": {
     "outputs_hidden": true,
     "source_hidden": true
    }
   },
   "outputs": [
    {
     "data": {
      "text/latex": [
       "$\\displaystyle \\left[\\begin{matrix}1 & 0 & 0 & 0\\\\-1 & 1 & 0 & 0\\\\1 & -2 & 1 & 0\\\\-1 & 3 & -3 & 1\\end{matrix}\\right]$"
      ],
      "text/plain": [
       "Matrix([\n",
       "[ 1,  0,  0, 0],\n",
       "[-1,  1,  0, 0],\n",
       "[ 1, -2,  1, 0],\n",
       "[-1,  3, -3, 1]])"
      ]
     },
     "execution_count": 19,
     "metadata": {},
     "output_type": "execute_result"
    }
   ],
   "source": [
    "from sympy import Matrix\n",
    "A = Matrix.eye(4,4)\n",
    "for i in range(1,4):\n",
    "    for j in range(i):\n",
    "        A[i,j]+=i\n",
    "A.col_op(0,lambda M,x: 1)\n",
    "E = Matrix.eye(4,4)\n",
    "E1=E.copy()\n",
    "E2=E.copy()\n",
    "E[3,2]=-1\n",
    "E[2,1]=-1\n",
    "E[1,0]=-1\n",
    "E1[2,1]=-1\n",
    "E1[3,1]=-1\n",
    "E2[3,2]=-2\n",
    "M = E2*E1*E"
   ]
  },
  {
   "cell_type": "markdown",
   "metadata": {},
   "source": [
    "#### Recitation 2"
   ]
  },
  {
   "cell_type": "markdown",
   "metadata": {
    "jupyter": {
     "source_hidden": true
    }
   },
   "source": [
    "Solve, using elimination:\n",
    "\n",
    "$ x-y-z+w= 0$ <br>\n",
    "$2x + 2z = 8$ <br>\n",
    "$-y - 2z = -8$ <br>\n",
    "$3x-3y-2z+4u=7$\n"
   ]
  },
  {
   "cell_type": "code",
   "execution_count": 55,
   "metadata": {
    "collapsed": true,
    "jupyter": {
     "outputs_hidden": true,
     "source_hidden": true
    }
   },
   "outputs": [
    {
     "name": "stdout",
     "output_type": "stream",
     "text": [
      "Check Ax=b True\n"
     ]
    }
   ],
   "source": [
    "from sympy import Matrix\n",
    "A = Matrix([[1,-1,-1,1],\n",
    "            [2, 0, 2,0],\n",
    "            [0,-1,-2,0],\n",
    "            [3,-3,-2,4]])\n",
    "b = Matrix([0,8,-8,7])\n",
    "\n",
    "Aug = A.row_join(b)\n",
    "E = Matrix.eye(4,4)\n",
    "E[1,0]=-2\n",
    "E[3,0]=-3\n",
    "E[1,2]=2\n",
    "\n",
    "Aug = E*Aug\n",
    "E = Matrix.eye(4,4)\n",
    "Aug.row_swap(1,2)\n",
    "Aug.row_swap(2,3)\n",
    "E[1,1]=-1\n",
    "E[3,3]=-1\n",
    "E*Aug\n",
    "# w = 4, then z = 7-4, 3, then y = 8 - 2*3 = 2, then x = 2+3-4 = 1\n",
    "x = Matrix([1,2,3,4])\n",
    "print(\"Check Ax=b\", A*x==b)"
   ]
  },
  {
   "cell_type": "markdown",
   "metadata": {},
   "source": [
    "#### 3. Multiplication and inverse matrices.  "
   ]
  },
  {
   "cell_type": "markdown",
   "metadata": {
    "jupyter": {
     "source_hidden": true
    }
   },
   "source": [
    "##### 3.1 Add $AB + AC$ and compare with $A(B+C)$\n"
   ]
  },
  {
   "cell_type": "code",
   "execution_count": 4,
   "metadata": {
    "collapsed": true,
    "jupyter": {
     "outputs_hidden": true,
     "source_hidden": true
    }
   },
   "outputs": [
    {
     "data": {
      "text/plain": [
       "True"
      ]
     },
     "execution_count": 4,
     "metadata": {},
     "output_type": "execute_result"
    }
   ],
   "source": [
    "import sympy as sym\n",
    "from sympy import Matrix\n",
    "A = Matrix([[1,2],\n",
    "            [3,4]])\n",
    "B = Matrix.zeros(2,2)\n",
    "B[0,0]=1\n",
    "C = Matrix([[0,0],\n",
    "            [5,6]])\n",
    "(A*B + A*C) == A*(B+C)"
   ]
  },
  {
   "cell_type": "markdown",
   "metadata": {
    "jupyter": {
     "source_hidden": true
    }
   },
   "source": [
    "The end result is a matrix<br>\n",
    "1. AB: first column of AB is one times [1,3] plus zero times [2,3], second column is [0,0] -> AB = [1,0],[3,0] <br>\n",
    "   AC: First column of AC is zero times [1,3] plus five times [2,4], second column is zero times [1,3] plus six times [2,4], AC = [10,12],[20,24] <br>\n",
    "   Sum is [11,12].T,[23,24].T <br>\n",
    "   \n",
    "2. B+C is [1,0],[5,6], A times B+C: <br>\n",
    "   first column is one times [1,3] add five times [2,4], i.e. [11,23] <br>\n",
    "   second column is zero times [1,3] add six times [2,4] i.e. [12,24] <br>"
   ]
  },
  {
   "cell_type": "markdown",
   "metadata": {
    "jupyter": {
     "source_hidden": true
    }
   },
   "source": [
    "##### 3.2\n",
    "Use Gauss Jordan Elimination on $[U  I]$ to find upper triangular $U^-1$"
   ]
  },
  {
   "cell_type": "code",
   "execution_count": 32,
   "metadata": {
    "collapsed": true,
    "jupyter": {
     "outputs_hidden": true,
     "source_hidden": true
    }
   },
   "outputs": [
    {
     "data": {
      "text/latex": [
       "$\\displaystyle \\left[\\begin{matrix}1 & - a & a c - b\\\\0 & 1 & - c\\\\0 & 0 & 1\\end{matrix}\\right]$"
      ],
      "text/plain": [
       "Matrix([\n",
       "[1, -a, a*c - b],\n",
       "[0,  1,      -c],\n",
       "[0,  0,       1]])"
      ]
     },
     "execution_count": 32,
     "metadata": {},
     "output_type": "execute_result"
    }
   ],
   "source": [
    "import sympy as sym\n",
    "from sympy import Matrix\n",
    "from sympy.abc import a,b,c\n",
    "U = Matrix.eye(3,3)\n",
    "U[0,1] = a\n",
    "U[0,2] = b\n",
    "U[1,2] = c\n",
    "Uaug = U.row_join(Matrix.eye(3,3))\n",
    "E1 = Matrix.eye(3,3)\n",
    "E1[1,2]= -c\n",
    "E1[0,2]= -b\n",
    "E2 = Matrix.eye(3,3)\n",
    "E2[0,1]= -a\n",
    "E2[0,2]= a*c\n",
    "E=E1*E2\n",
    "E"
   ]
  },
  {
   "cell_type": "markdown",
   "metadata": {},
   "source": [
    "#### Recitation 3\n"
   ]
  },
  {
   "cell_type": "raw",
   "metadata": {
    "jupyter": {
     "source_hidden": true
    }
   },
   "source": [
    "Find conditions on a and b for inverse matrix to exist, \n",
    "Find the inverse\n",
    "\n",
    "result: inverse coded below; \n",
    "a cant be zero,\n",
    "a-b cant be zero "
   ]
  },
  {
   "cell_type": "code",
   "execution_count": 50,
   "metadata": {
    "collapsed": true,
    "jupyter": {
     "outputs_hidden": true,
     "source_hidden": true
    }
   },
   "outputs": [
    {
     "data": {
      "text/latex": [
       "$\\displaystyle \\left[\\begin{matrix}1 & 0 & 0 & \\frac{b}{a \\left(a - b\\right)} + \\frac{1}{a} & 0 & - \\frac{b}{a \\left(a - b\\right)}\\\\0 & 1 & 0 & - \\frac{1}{a - b} & \\frac{1}{a - b} & 0\\\\0 & 0 & 1 & 0 & - \\frac{1}{a - b} & \\frac{1}{a - b}\\end{matrix}\\right]$"
      ],
      "text/plain": [
       "Matrix([\n",
       "[1, 0, 0, b/(a*(a - b)) + 1/a,          0, -b/(a*(a - b))],\n",
       "[0, 1, 0,          -1/(a - b),  1/(a - b),              0],\n",
       "[0, 0, 1,                   0, -1/(a - b),      1/(a - b)]])"
      ]
     },
     "execution_count": 50,
     "metadata": {},
     "output_type": "execute_result"
    }
   ],
   "source": [
    "from sympy import Matrix\n",
    "from sympy.abc import a,b\n",
    "\n",
    "A = Matrix([[a,b,b],\n",
    "            [a,a,b],\n",
    "            [a,a,a]])\n",
    "E = Matrix.eye(3)\n",
    "Aug = A.row_join(Matrix.eye(3))\n",
    "E1 = E.copy()\n",
    "E2 = E.copy()\n",
    "E3 = E.copy()\n",
    "E1[2,1] = -1\n",
    "E1[1,0] = -1\n",
    "E1[0,0] = 1/a \n",
    "E2[1,1] = 1/(a-b)\n",
    "E2[2,2] = 1/(a-b)\n",
    "E = E2*E1\n",
    "result = E*Aug\n",
    "result[1,1] = 1\n",
    "result[2,2] = 1\n",
    "E3[0,1] = -b/a\n",
    "E3[0,2] = -b/a\n",
    "\n",
    "E3*result # b/a(a-b) + 1/a simplified into 1/(a-b)"
   ]
  },
  {
   "cell_type": "markdown",
   "metadata": {},
   "source": [
    "#### 4. Factorization into A = LU"
   ]
  },
  {
   "cell_type": "markdown",
   "metadata": {
    "jupyter": {
     "source_hidden": true
    }
   },
   "source": [
    "##### 4.1\n",
    "Find $E$ and $E^{-1} = L$ for the matrix below"
   ]
  },
  {
   "cell_type": "code",
   "execution_count": 10,
   "metadata": {
    "collapsed": true,
    "jupyter": {
     "outputs_hidden": true,
     "source_hidden": true
    }
   },
   "outputs": [
    {
     "data": {
      "text/plain": [
       "True"
      ]
     },
     "execution_count": 10,
     "metadata": {},
     "output_type": "execute_result"
    }
   ],
   "source": [
    "from sympy import Matrix\n",
    "A = Matrix([[1,3,0],\n",
    "            [2,4,0],\n",
    "            [2,0,1]])\n",
    "E = Matrix.eye(3)\n",
    "E1 = E.copy()\n",
    "E2 = E.copy()\n",
    "L = Matrix.eye(3)\n",
    "E1[1,0] = -2\n",
    "E1[2,0] = -2\n",
    "E2[2,1] = -3\n",
    "L[1,0] = 2\n",
    "L[2,0] = 2\n",
    "L[2,1] = 3\n",
    "E=E2*E1\n",
    "L*E*A == A"
   ]
  },
  {
   "cell_type": "markdown",
   "metadata": {
    "jupyter": {
     "source_hidden": true
    }
   },
   "source": [
    "##### 4.2 \n",
    "Compute $U ,L$ <br>\n",
    "Find conditions on a,b,c,d."
   ]
  },
  {
   "cell_type": "code",
   "execution_count": 35,
   "metadata": {
    "collapsed": true,
    "jupyter": {
     "outputs_hidden": true,
     "source_hidden": true
    }
   },
   "outputs": [
    {
     "name": "stdout",
     "output_type": "stream",
     "text": [
      "Check by-hand solution: True\n",
      "Constrains: a!=0,b!=a,c!=b,d!=c\n"
     ]
    }
   ],
   "source": [
    "from sympy import Matrix\n",
    "from sympy.abc import a,b,c,d\n",
    "A = Matrix([[a,a,a,a],\n",
    "            [a,b,b,b],\n",
    "            [a,b,c,c],\n",
    "            [a,b,c,d]])\n",
    "E = Matrix.eye(4)\n",
    "L = E.copy()\n",
    "E1 = E.copy()\n",
    "E1[3,0]=-1\n",
    "E1[2,0]=-1\n",
    "E1[1,0]=-1\n",
    "E2 = E.copy()\n",
    "E2[3,1]=-1\n",
    "E2[2,1]=-1\n",
    "E3 = E.copy()\n",
    "E3[3,2] = -1\n",
    "\n",
    "L[3,0]=1\n",
    "L[2,0]=1\n",
    "L[1,0]=1\n",
    "L[3,1]=1\n",
    "L[2,1]=1\n",
    "L[3,2]=1\n",
    " \n",
    "E = E3*E2*E1\n",
    "U = E*A\n",
    "print(\"Check by-hand solution:\" ,L*U==A)\n",
    "print('Constrains: a!=0,b!=a,c!=b,d!=c')\n",
    "# Using symbolic solver\n",
    "A = Matrix([[a,a,a,a],\n",
    "            [a,b,b,b],\n",
    "            [a,b,c,c],\n",
    "            [a,b,c,d]])\n",
    "L,U,[] = A.LUdecomposition()"
   ]
  },
  {
   "cell_type": "markdown",
   "metadata": {},
   "source": [
    "#### Recitation 4 "
   ]
  },
  {
   "cell_type": "markdown",
   "metadata": {
    "jupyter": {
     "source_hidden": true
    }
   },
   "source": [
    "Find the LU-decomposition of matrix, for which a and b it exists?"
   ]
  },
  {
   "cell_type": "code",
   "execution_count": 49,
   "metadata": {
    "collapsed": true,
    "jupyter": {
     "outputs_hidden": true,
     "source_hidden": true
    }
   },
   "outputs": [
    {
     "data": {
      "text/latex": [
       "$\\displaystyle \\left[\\begin{matrix}1 & 0 & 1\\\\a & a & a\\\\b & b & a\\end{matrix}\\right]$"
      ],
      "text/plain": [
       "Matrix([\n",
       "[1, 0, 1],\n",
       "[a, a, a],\n",
       "[b, b, a]])"
      ]
     },
     "execution_count": 49,
     "metadata": {},
     "output_type": "execute_result"
    }
   ],
   "source": [
    "from sympy.abc import a,b\n",
    "from sympy import Matrix\n",
    "A = Matrix([[1,0,1],\n",
    "            [a,a,a],\n",
    "            [b,b,a]])\n",
    "E = Matrix.eye(3)\n",
    "L = E.copy()\n",
    "E1 = E.copy()\n",
    "E2 = E.copy()\n",
    "E3 = E.copy()\n",
    "E = E3*E2*E1\n",
    "U = E*A\n",
    "# for decomposition to exist a must not be 0, \n",
    "# A.LUdecomposition()\n",
    "U"
   ]
  },
  {
   "cell_type": "markdown",
   "metadata": {},
   "source": [
    "#### 5. Transposes, Permutations, Vector Spaces"
   ]
  },
  {
   "cell_type": "markdown",
   "metadata": {
    "jupyter": {
     "source_hidden": true
    }
   },
   "source": [
    "##### 5.1 <br>\n",
    "a) Find a 3x3 permutation matrix P such as $P^{3} = I$ and $P \\neq I$  <br>\n",
    "b) Find a 4x4 matrix $\\hat{P}$ with $\\hat{P}^{4} \\neq I$ "
   ]
  },
  {
   "cell_type": "code",
   "execution_count": 46,
   "metadata": {
    "collapsed": true,
    "jupyter": {
     "outputs_hidden": true,
     "source_hidden": true
    }
   },
   "outputs": [
    {
     "data": {
      "text/latex": [
       "$\\displaystyle \\left[\\begin{matrix}0 & 1 & 0\\\\0 & 0 & 1\\\\1 & 0 & 0\\end{matrix}\\right]$"
      ],
      "text/plain": [
       "Matrix([\n",
       "[0, 1, 0],\n",
       "[0, 0, 1],\n",
       "[1, 0, 0]])"
      ]
     },
     "execution_count": 46,
     "metadata": {},
     "output_type": "execute_result"
    }
   ],
   "source": [
    "from sympy import Matrix\n",
    "'a'\n",
    "P = Matrix.eye(3)\n",
    "P.row_swap(0,1)\n",
    "P.row_swap(1,2)\n",
    "P*P*P == Matrix.eye(3)\n",
    "P"
   ]
  },
  {
   "cell_type": "code",
   "execution_count": 62,
   "metadata": {
    "collapsed": true,
    "jupyter": {
     "outputs_hidden": true,
     "source_hidden": true
    }
   },
   "outputs": [
    {
     "data": {
      "text/plain": [
       "False"
      ]
     },
     "execution_count": 62,
     "metadata": {},
     "output_type": "execute_result"
    }
   ],
   "source": [
    "'b'\n",
    "P_hat = Matrix.eye(4)\n",
    "P_hat.row_swap(1,2) \n",
    "P_hat.row_swap(2,3) \n",
    "P_hat**3 == Matrix.eye(4)\n",
    "P_hat**4 == Matrix.eye(4)"
   ]
  },
  {
   "cell_type": "markdown",
   "metadata": {
    "jupyter": {
     "source_hidden": true
    }
   },
   "source": [
    "##### 5.2\n",
    "Suppose A is 4x4. How many entries can be chosen independently if <br>\n",
    "a) A is symmetric? <br>\n",
    "b) A is skew-symmetric ($A^{T} = -A$)"
   ]
  },
  {
   "cell_type": "code",
   "execution_count": 82,
   "metadata": {
    "collapsed": true,
    "jupyter": {
     "outputs_hidden": true,
     "source_hidden": true
    }
   },
   "outputs": [
    {
     "name": "stdout",
     "output_type": "stream",
     "text": [
      "For symmetric: 10\n",
      "For skew-symmetric: 6\n"
     ]
    }
   ],
   "source": [
    "from sympy.abc import a,b,c,d,e,f,g,h,i,j\n",
    "# import sympy\n",
    "A = Matrix([[a,b,c,d],\n",
    "            [b,e,f,g],\n",
    "            [c,f,h,i],\n",
    "            [d,g,i,j]])\n",
    "A.is_symmetric() \n",
    "list(map(chr,range(97,107))) \n",
    "print('For symmetric:', 10)\n",
    "B = Matrix([[ 0, b, c,d],\n",
    "            [-b, 0, f,g],\n",
    "            [-c,-f, 0,i],\n",
    "            [-d,-g,-i,0]])\n",
    "B.transpose()==-1*B \n",
    "print('For skew-symmetric:', 6)"
   ]
  },
  {
   "cell_type": "markdown",
   "metadata": {
    "jupyter": {
     "source_hidden": true
    }
   },
   "source": [
    "##### 5.3\n",
    "T or F, give counterexample:<br>\n",
    "a)The symmetric matrices in M (with $A^{T}=A$) form a subspace.  **True** <br>\n",
    "_In this case transpose of a sum is sum of transposes, which is same as sum of matrices themselves. By adding up  symmetric matrices we'll always get a symmetric matrix; Multiplying a symmetric matrix by constant does not break symmetry_<br>\n",
    "b)The skew-symmetric matrices in M (with $A^{T}=-A$) form a subspace. **True**<br>\n",
    "_By adding skew-symmetric matrices we'll always get skew symmetric, and mult works _\n",
    "c)The unsymmetric matrices in M (with $A^{T} \\neq A$)form a subspace. **False**<br>\n",
    "\n",
    "c) Sum of two unsymmetric matrices can give a symmetric matrix. Therefore unsymmetric matrices are not a subspace."
   ]
  },
  {
   "cell_type": "markdown",
   "metadata": {},
   "source": [
    "#### 6. Column Space, Null space"
   ]
  },
  {
   "cell_type": "markdown",
   "metadata": {
    "jupyter": {
     "source_hidden": true
    }
   },
   "source": [
    "##### 6.1 \n",
    "Suppose _S_ and _T_ are subspaces of _V_ <br>\n",
    "\n",
    "a) s is in _S_, t in _T_, S+T contains all s+t. Show that S+T satisifies requirements for a vector space. <br>\n",
    "b) If _S_ and _T_ are lines in $R^{m}$ waht us difference between S+T and S u T? The union contains vectors from S, T or both? Explain: the span of S u T is S+T "
   ]
  },
  {
   "cell_type": "raw",
   "metadata": {
    "jupyter": {
     "source_hidden": true
    }
   },
   "source": [
    "a) S+T is closed under scalar multiplication: it contains all s+t, so c(s+t) will be in S+T, and as+bt will still be in S+T\n",
    "\n",
    "b) S+T is a plane, and union is two lines. The span of S u T is set of all linear combinations of vectors in these lines. This will extend to whole plane (given S and T are not the same line), therefore SuT spans S+T;  S+T contains SuT"
   ]
  },
  {
   "cell_type": "markdown",
   "metadata": {
    "jupyter": {
     "source_hidden": true
    }
   },
   "source": [
    "##### 6.2 \n",
    "The plane $x-3y-z=12$ is parallel to $x-3x-x = 0$, one point in it is (12,0,0). <br>\n",
    "Fill the components: <br>\n",
    "$\\begin{pmatrix}x\\\\y\\\\z\\end{pmatrix} = \\begin{pmatrix} \\\\0\\\\0\\end{pmatrix} +y\\begin{pmatrix} \\\\1\\\\0\\end{pmatrix}+z\\begin{pmatrix} \\\\0\\\\1\\end{pmatrix}  $ <br>\n",
    "\n",
    "$x-3y-z=12$ is equal to $x=12+3y+z$, so the solution: <br>\n",
    "$\\begin{pmatrix}x\\\\y\\\\z\\end{pmatrix} = \\begin{pmatrix}12\\\\0\\\\0\\end{pmatrix} +y\\begin{pmatrix}3\\\\1\\\\0\\end{pmatrix}+z\\begin{pmatrix}1\\\\0\\\\1\\end{pmatrix}  $"
   ]
  },
  {
   "cell_type": "markdown",
   "metadata": {
    "jupyter": {
     "source_hidden": true
    }
   },
   "source": [
    "##### 6.3\n",
    "How is the nullspace $N(C)$ related to the spaces $N(A)$ and $N(B)$, if $C=\\begin{pmatrix}A\\\\B\\end{pmatrix} $ <br>\n",
    "\n",
    "Nullspace of C will contain all the vectors that are in both nullspaces is Cx=0,Ax=0 and Bx=0"
   ]
  },
  {
   "cell_type": "markdown",
   "metadata": {},
   "source": [
    "#### 7. Solving Ax=0: Pivot Variables, Special solutions"
   ]
  },
  {
   "cell_type": "markdown",
   "metadata": {
    "jupyter": {
     "source_hidden": true
    }
   },
   "source": [
    "##### 7.1 \n",
    "Find row reduced form, rank and solutions to $Ax=0$"
   ]
  },
  {
   "cell_type": "code",
   "execution_count": 17,
   "metadata": {
    "collapsed": true,
    "jupyter": {
     "outputs_hidden": true,
     "source_hidden": true
    }
   },
   "outputs": [
    {
     "name": "stdout",
     "output_type": "stream",
     "text": [
      "Rank: 2\n"
     ]
    },
    {
     "data": {
      "text/latex": [
       "$\\displaystyle \\left[\\begin{matrix}- \\frac{23 \\tau_{0}}{4} - \\frac{\\tau_{1}}{4}\\\\- \\frac{\\tau_{0}}{4} - \\frac{7 \\tau_{1}}{4}\\\\\\tau_{0}\\\\\\tau_{1}\\end{matrix}\\right]$"
      ],
      "text/plain": [
       "Matrix([\n",
       "[-23*tau0/4 - tau1/4],\n",
       "[ -tau0/4 - 7*tau1/4],\n",
       "[               tau0],\n",
       "[               tau1]])"
      ]
     },
     "execution_count": 17,
     "metadata": {},
     "output_type": "execute_result"
    }
   ],
   "source": [
    "from sympy import Matrix\n",
    "A = Matrix([[1,5,7,9],\n",
    "            [0,4,1,7],\n",
    "            [2,-2,11,-3]])\n",
    "Ar,pivots = A.rref()# row reduced form\n",
    "print(\"Rank:\",2)\n",
    "solution,a = A.gauss_jordan_solve(Matrix([0,0,0]))\n",
    "solution\n",
    "# Parametric solution intepretation:\n",
    "# [-23/4,1/4,1,0] and c[-1/4,-7/4,0,1]"
   ]
  },
  {
   "cell_type": "markdown",
   "metadata": {
    "jupyter": {
     "source_hidden": true
    }
   },
   "source": [
    "##### 7.2 \n",
    "Find $A_1$ and $A_2$ so that $rk(A_1 B) = 1$ and $rk(A_2 B) = 0$"
   ]
  },
  {
   "cell_type": "code",
   "execution_count": 20,
   "metadata": {
    "collapsed": true,
    "jupyter": {
     "outputs_hidden": true,
     "source_hidden": true
    }
   },
   "outputs": [
    {
     "name": "stdout",
     "output_type": "stream",
     "text": [
      "Check rk(A1*B): True\n",
      "Check rk(A2*B): True\n"
     ]
    }
   ],
   "source": [
    "B = Matrix([[1,1],[1,1]])\n",
    "A1 = Matrix.eye(2)\n",
    "A2 = Matrix.zeros(2)\n",
    "print('Check rk(A1*B):',Matrix.rank(A1*B) == 1)\n",
    "print('Check rk(A2*B):',Matrix.rank(A2*B) == 0)"
   ]
  },
  {
   "cell_type": "markdown",
   "metadata": {},
   "source": [
    "#### 8. Solving Ax=B: Row Reduced form"
   ]
  },
  {
   "cell_type": "markdown",
   "metadata": {
    "jupyter": {
     "source_hidden": true
    }
   },
   "source": [
    "##### 8.1\n",
    "Explain why are these false:<br>\n",
    "a) The complete solution is any linear combination of $x_p$ and $x_n$ <br>\n",
    "_The complete solution is linear combination of $x_p$ and any vector in $x_n$, which is not the same as any combination of these; An example would be $2x_p + x_{sp}$, because $A*(2x_p)=2Ax_p=2b \\neq b$_<br>\n",
    "b) The system $Ax=b$ has at most one particular solution <br>\n",
    "_If A is a non-invertible matrix particularly if rk(A)=m<n, $Ax=b$ has infinitely many solutions_ <br>\n",
    "c) If A is invertible, there is no solution $x_n$ in the nullspace <br>\n",
    "_Any matrix multiplied by zero will produce zero vector, therefore nullspace will always contain zero vector_"
   ]
  },
  {
   "cell_type": "markdown",
   "metadata": {
    "jupyter": {
     "source_hidden": true
    }
   },
   "source": [
    "##### 8.2\n",
    "For matrices U, c find row reduced form, solve Rx=0, Rx = d, check values for Ux=0 and Ux=c"
   ]
  },
  {
   "cell_type": "raw",
   "metadata": {
    "jupyter": {
     "source_hidden": true
    }
   },
   "source": [
    "U= [1,2,3]\n",
    "   [0,0,4]\n",
    "   \n",
    "c = [5,8].T\n",
    "\n",
    "multiply second row by 1/4, the substract 3 times second row from the first.\n",
    "Rx = d: \n",
    " [1,2,0,-1]\n",
    " [0,0,1, 2]\n",
    " x3 = 2, \n",
    " x2 = 1 \n",
    " x1 =-3 \n",
    " \n",
    "x = [-3,1,2] \n",
    "\n",
    "Rx = 0\n",
    "[1,2,0] = 0 \n",
    "[0,0,1]   0\n",
    "z = 0, x = 2, y = -1\n",
    "x = [2,-1,0]\n",
    "\n"
   ]
  },
  {
   "cell_type": "markdown",
   "metadata": {
    "jupyter": {
     "source_hidden": true
    }
   },
   "source": [
    "##### 8.3\n",
    "Suppose Ax=b and Cx=b have same solutionf for every b. A=C? <br>\n",
    "\n",
    "If $Ax = b, Cx = b$; then $Ax = Cx$. Multiply by $x^{-1}$:<br>\n",
    "$Axx^{-1}=Cxx^{-1}$ -> $A=C$"
   ]
  },
  {
   "cell_type": "markdown",
   "metadata": {},
   "source": [
    "#### 9. Independence, Basis, Dimension"
   ]
  },
  {
   "cell_type": "markdown",
   "metadata": {
    "jupyter": {
     "source_hidden": true
    }
   },
   "source": [
    "##### 9.1\n",
    "Find the largest possible number of independent vectors among $v1:v6$ in $R^4$ <br>\n",
    "_Given the vectors and their dimension the number is 4_<br>\n",
    "_However in this configuration only 3 are linearly independent, so for this srt ndim=3_<br>\n",
    "##### 9.2 \n",
    "Find a basis for the plane $x-2y+3z=0$ in $R^3$<br>\n",
    "Find basis for intersection of that plane with $xy$ plane <br>\n",
    "Find basis for all vectors perpedicular to the plane."
   ]
  },
  {
   "cell_type": "code",
   "execution_count": 13,
   "metadata": {
    "collapsed": true,
    "jupyter": {
     "outputs_hidden": true,
     "source_hidden": true
    }
   },
   "outputs": [
    {
     "data": {
      "text/latex": [
       "$\\displaystyle \\left[\\begin{matrix}1\\\\-2\\\\3\\end{matrix}\\right]$"
      ],
      "text/plain": [
       "Matrix([\n",
       "[ 1],\n",
       "[-2],\n",
       "[ 3]])"
      ]
     },
     "execution_count": 13,
     "metadata": {},
     "output_type": "execute_result"
    }
   ],
   "source": [
    "from sympy import Matrix\n",
    "import sympy\n",
    "A = Matrix([[1,-2,3],\n",
    "            [0,0,0],\n",
    "            [0,0,0]])\n",
    "# y and z are free variables, so special solutions are\n",
    "x1,x2 = [2,1,0], [-3,0,1]\n",
    "v1 = Matrix(x1)\n",
    "v2 = Matrix(x2)\n",
    "# The intersection with xy plane will not contain x2\n",
    "# The intersection is a line so x1 is a basis\n",
    "# for perpendicular basis need to calculate cross product:\n",
    "from sympy.abc import i,j,k\n",
    "M = Matrix([[i,j,k],x1,x2])\n",
    "M.det()\n",
    "v3 = Matrix([1,-2,3])\n",
    "v3 # basis for 1D space of vectors, perpendicular to this plane. "
   ]
  },
  {
   "cell_type": "markdown",
   "metadata": {},
   "source": [
    "#### 10. Four fundamental subspaces"
   ]
  },
  {
   "cell_type": "markdown",
   "metadata": {
    "jupyter": {
     "source_hidden": true
    }
   },
   "source": [
    "##### 10.1\n",
    "Suppose A is m by n matrix of rank r, suppose there a right sides b, for which there is no solution.<br>\n",
    "a) What are inequalities between r,m,n?<br>\n",
    "_For b to be a solution to $Ax=b$, it has to be in C(A), and C(A) is in $R^m$, therefore if b is not in C(A), then r<m, n<=m_ <br>\n",
    "b) How do ou know that $A^T=0$ has other solutions then zero? <br>\n",
    "_$N(A^T)$ is in $R^m$, dim (m-r); if r<m, it means there are non-zero vectors in it_                                      \n",
    "##### 10.2\n",
    "$A^T=d$ is solvable when d is in which subspaces? <br>\n",
    "_d must be in row space of A _\n",
    "The solution is unique when what space contains only zero vector?<br>\n",
    "The solution is unique when matrix is full rank, matrix is full rank when nullspace contains only zero vector. Nullspace for $A^T$ is __left nullspace___"
   ]
  },
  {
   "cell_type": "markdown",
   "metadata": {},
   "source": [
    "#### 11. Matrix Spaces, Rank 1, Small world graphs."
   ]
  },
  {
   "cell_type": "markdown",
   "metadata": {},
   "source": [
    "##### 11.1 \n",
    "Write 3x3 identity matrix as a combination of other five permutation matrices. Then show that these matrices are linearly independent<br>\n",
    "These matrices are subspace of matrices, where sums of rows and columns are equal<br>"
   ]
  },
  {
   "cell_type": "code",
   "execution_count": 48,
   "metadata": {},
   "outputs": [
    {
     "name": "stdout",
     "output_type": "stream",
     "text": [
      "Check P1+P2+P3-P4-P5 = I: True\n"
     ]
    },
    {
     "data": {
      "text/latex": [
       "$\\displaystyle \\left[\\begin{matrix}0 & 0 & 0\\\\0 & 0 & 0\\\\0 & 0 & 0\\end{matrix}\\right]$"
      ],
      "text/plain": [
       "Matrix([\n",
       "[0, 0, 0],\n",
       "[0, 0, 0],\n",
       "[0, 0, 0]])"
      ]
     },
     "execution_count": 48,
     "metadata": {},
     "output_type": "execute_result"
    }
   ],
   "source": [
    "from sympy import Matrix,symbols\n",
    "I = Matrix.eye(3)\n",
    "P={}\n",
    "P[1] = I.copy()\n",
    "P[1].row_swap(0,1)\n",
    "P[2] = I.copy()\n",
    "P[2].row_swap(0,2)\n",
    "P[3] = I.copy()\n",
    "P[3].row_swap(2,1)\n",
    "P[4] = I.copy()\n",
    "P[4].row_swap(2,1)\n",
    "P[4].row_swap(0,1)\n",
    "P[5] = I.copy()\n",
    "P[5].row_swap(0,1)\n",
    "P[5].row_swap(2,1)\n",
    "\n",
    "\n",
    "print('Check P1+P2+P3-P4-P5 = I:',P[1]+P[2]+P[3]-P[4]-P[5] == I)\n",
    "\n",
    "\"Linear independence\"\n",
    "# matrices will be linearly dependent, if their linear combination can be zero. Solve c1P1+..+c5P5=0:\n",
    "c = symbols('c1:6')\n",
    "Total=Matrix.zeros(3)\n",
    "for i,e in enumerate(c):\n",
    "    Total+=e*P[i+1]\n",
    "\n",
    "Total.solve(Matrix.zeros(3))\n",
    "# N(Total) contains only zero-matrix -> sum of matrices is full rank -> matrices are lineraly independent."
   ]
  },
  {
   "cell_type": "markdown",
   "metadata": {},
   "source": [
    "##### 11.2\n",
    "M is space of 3x3 matrices. Multiply each matrix X in M by A <br>\n",
    "a) For which X AX=0? <br>\n",
    "b) Which matrices have the form AX for some X?<br>\n",
    "c) What are dimensions of of N(M) and C(M), Why they add to (n-r)+r=9?"
   ]
  },
  {
   "cell_type": "code",
   "execution_count": 63,
   "metadata": {},
   "outputs": [
    {
     "name": "stdout",
     "output_type": "stream",
     "text": [
      "Test AX=0 True\n"
     ]
    }
   ],
   "source": [
    "A = Matrix([[1,0,-1],\n",
    "            [-1,1,0],\n",
    "            [0,-1,1]])\n",
    "\"a\"\n",
    "# Find N(A):\n",
    "A.rref() # rk(A) = 2, \n",
    "X,f = A.gauss_jordan_solve(Matrix.zeros(3))\n",
    "print('Test AX=0',A*X==Matrix.zeros(3))\n",
    "'b'\n",
    "# Matrix AX will be linear combination of columns of A. For matrix to have form AX, the columns must sum up to zero. \n",
    "'c'\n",
    "# f (free variable) is dim(3); form AX has 3 columns, but only 2 independent rows - dim 6; and they sum up to number of entires in a matrix 3x3"
   ]
  },
  {
   "cell_type": "markdown",
   "metadata": {},
   "source": [
    "#### 12. Graphs, Networks, Incidence Matrices"
   ]
  },
  {
   "cell_type": "markdown",
   "metadata": {},
   "source": [
    "#### 13. Exam Review"
   ]
  },
  {
   "cell_type": "markdown",
   "metadata": {},
   "source": [
    "#### Exam"
   ]
  },
  {
   "cell_type": "code",
   "execution_count": null,
   "metadata": {},
   "outputs": [],
   "source": []
  }
 ],
 "metadata": {
  "kernelspec": {
   "display_name": "Python 3",
   "language": "python",
   "name": "python3"
  },
  "language_info": {
   "codemirror_mode": {
    "name": "ipython",
    "version": 3
   },
   "file_extension": ".py",
   "mimetype": "text/x-python",
   "name": "python",
   "nbconvert_exporter": "python",
   "pygments_lexer": "ipython3",
   "version": "3.7.6"
  }
 },
 "nbformat": 4,
 "nbformat_minor": 4
}
